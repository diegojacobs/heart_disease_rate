{
 "cells": [
  {
   "cell_type": "code",
   "execution_count": 1,
   "metadata": {},
   "outputs": [
    {
     "ename": "ModuleNotFoundError",
     "evalue": "No module named 'lightgbm'",
     "output_type": "error",
     "traceback": [
      "\u001b[1;31m---------------------------------------------------------------------------\u001b[0m",
      "\u001b[1;31mModuleNotFoundError\u001b[0m                       Traceback (most recent call last)",
      "\u001b[1;32m<ipython-input-1-4a88ee333b7c>\u001b[0m in \u001b[0;36m<module>\u001b[1;34m()\u001b[0m\n\u001b[0;32m      2\u001b[0m \u001b[1;32mimport\u001b[0m \u001b[0mnumpy\u001b[0m \u001b[1;32mas\u001b[0m \u001b[0mnp\u001b[0m\u001b[1;33m\u001b[0m\u001b[0m\n\u001b[0;32m      3\u001b[0m \u001b[1;32mimport\u001b[0m \u001b[0mmath\u001b[0m\u001b[1;33m\u001b[0m\u001b[0m\n\u001b[1;32m----> 4\u001b[1;33m \u001b[1;32mfrom\u001b[0m \u001b[0mlightgbm\u001b[0m \u001b[1;32mimport\u001b[0m \u001b[0mLGBMRegressor\u001b[0m\u001b[1;33m\u001b[0m\u001b[0m\n\u001b[0m\u001b[0;32m      5\u001b[0m \u001b[1;32mfrom\u001b[0m \u001b[0msklearn\u001b[0m\u001b[1;33m.\u001b[0m\u001b[0mmodel_selection\u001b[0m \u001b[1;32mimport\u001b[0m \u001b[0mtrain_test_split\u001b[0m\u001b[1;33m\u001b[0m\u001b[0m\n\u001b[0;32m      6\u001b[0m \u001b[1;32mfrom\u001b[0m \u001b[0msklearn\u001b[0m\u001b[1;33m.\u001b[0m\u001b[0mmetrics\u001b[0m \u001b[1;32mimport\u001b[0m \u001b[0mmean_squared_error\u001b[0m\u001b[1;33m\u001b[0m\u001b[0m\n",
      "\u001b[1;31mModuleNotFoundError\u001b[0m: No module named 'lightgbm'"
     ]
    }
   ],
   "source": [
    "import pandas as pd\n",
    "import numpy as np\n",
    "import math\n",
    "from lightgbm import LGBMRegressor\n",
    "from sklearn.model_selection import train_test_split\n",
    "from sklearn.metrics import mean_squared_error"
   ]
  },
  {
   "cell_type": "code",
   "execution_count": null,
   "metadata": {},
   "outputs": [],
   "source": [
    "def evaluate(x_train, x_eval, y_train, y_eval, model):\n",
    "    model.fit(x_train, y_train)\n",
    "    y_predict = model.predict(x_eval)\n",
    "    return math.sqrt(mean_squared_error(y_predict, y_eval))"
   ]
  },
  {
   "cell_type": "code",
   "execution_count": null,
   "metadata": {},
   "outputs": [],
   "source": [
    "# Read data\n",
    "df_X_train = pd.read_csv('../input/Training_values.csv')\n",
    "df_Y_train = pd.read_csv('../input/Training_labels.csv')\n",
    "df_X_test  = pd.read_csv('../input/Test_values.csv')\n",
    "\n",
    "df_X_train.describe()"
   ]
  },
  {
   "cell_type": "code",
   "execution_count": null,
   "metadata": {},
   "outputs": [],
   "source": [
    "# Clean missing data , Convert categorical features\n",
    "ID = 'row_id'\n",
    "target = 'heart_disease_mortality_per_100k'\n",
    "\n",
    "X_train = pd.get_dummies(df_X_train.drop(ID, axis=1).fillna(0)).values\n",
    "Y_train = df_Y_train[target].values\n",
    "X_test  = pd.get_dummies(df_X_test.drop(ID,axis=1).fillna(0)).values"
   ]
  },
  {
   "cell_type": "code",
   "execution_count": null,
   "metadata": {},
   "outputs": [],
   "source": [
    "# Split training data , Evaluate model , Tune hyper-parameters\n",
    "x_train, x_eval, y_train, y_eval = train_test_split(X_train, Y_train, test_size=0.2, random_state=1)\n",
    "\n",
    "model = LGBMRegressor(n_estimators=2000, learning_rate=0.05, num_leaves=30)\n",
    "rmse = evaluate(x_train, x_eval, y_train, y_eval, model)\n",
    "print ('LGBMRegressor RMSE :', rmse)"
   ]
  },
  {
   "cell_type": "code",
   "execution_count": null,
   "metadata": {},
   "outputs": [],
   "source": [
    "# Train model , Predict\n",
    "model.fit(X_train, Y_train)\n",
    "Y_predict = model.predict(X_test)\n",
    "\n",
    "# Submit\n",
    "submit = np.column_stack((df_X_test[ID], np.round(Y_predict)))\n",
    "np.savetxt(\"submit.csv\", submit, fmt='%i', delimiter=\",\", header=ID+','+target, comments='')\n",
    "\n",
    "print ('submit.csv')"
   ]
  }
 ],
 "metadata": {
  "kernelspec": {
   "display_name": "Python 3",
   "language": "python",
   "name": "python3"
  },
  "language_info": {
   "codemirror_mode": {
    "name": "ipython",
    "version": 3
   },
   "file_extension": ".py",
   "mimetype": "text/x-python",
   "name": "python",
   "nbconvert_exporter": "python",
   "pygments_lexer": "ipython3",
   "version": "3.7.0"
  }
 },
 "nbformat": 4,
 "nbformat_minor": 2
}
